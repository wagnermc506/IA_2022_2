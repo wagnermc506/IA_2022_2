{
 "cells": [
  {
   "cell_type": "markdown",
   "id": "30763c49",
   "metadata": {},
   "source": [
    "# Introdução"
   ]
  },
  {
   "cell_type": "markdown",
   "id": "dae512ce",
   "metadata": {},
   "source": [
    "Este portifólio trata os conceitos de um agente lógico, e alguns conceitos sobre lógica. A lógica é uma ferramenta a qual torna possível inferir novos fatos a partir de fatos já conhecidos, ou seja, é uma ferramenta na qual um agente inteligente pode se beneficiar."
   ]
  },
  {
   "cell_type": "markdown",
   "id": "da52635b",
   "metadata": {},
   "source": [
    "# Agentes Lógicos"
   ]
  },
  {
   "cell_type": "markdown",
   "id": "8d114a65",
   "metadata": {},
   "source": [
    "Agentes baseados em conhecimento são agentes que utilizam alguma representação interna de conhecimento para decidir quais ações tomar. Essa representação é feita utilizando a lógica.\n",
    "\n",
    "Conceitos chave:\n",
    "\n",
    "- Knowledge Base(KB): Base de conhecimento é onde fica armazenado o conhecimento do agente\n",
    "- Sentenças: São fatos acerca do mundo\n",
    "- Linguagem de representação de conhecimento: É o padrão ao qual as senteças são armazenadas\n",
    "- Axioma: Uma sentença 'primitiva', a qual não é derivada de nenhuma outra sentença\n",
    "- TELL e ASK: Operações para adicionar e consultar dados a base de conhecimento\n",
    "- Inferência: Derivação de novas sentenças a partir de sentenças antigas\n",
    "\n",
    "Os axiomas podem ser adicionados a base de conhecimento de duas formas distintas. Na primeira, chamada de abordagem declarativa, a KB é inicializada vazia e o projetista acrescenta as sentenças iniciais para que o agente possa começar a operar no ambiente. Na segunda abordagem, chamada procedural, os comportamentos possíveis do agente são `hardcoded` no programa."
   ]
  },
  {
   "cell_type": "markdown",
   "id": "37bc8240",
   "metadata": {},
   "source": [
    "## Lógica"
   ]
  },
  {
   "cell_type": "markdown",
   "id": "ecd2eace",
   "metadata": {},
   "source": [
    "### Sintaxe vs Semântica"
   ]
  },
  {
   "cell_type": "markdown",
   "id": "bd7323ee",
   "metadata": {},
   "source": [
    "Sintaxe é o que atribui as regras formais de estrutura de uma linguagem. Na linguagem de programação C, por exemplo, o formato para criar e atribuir novas variáveis (`type var_name = value;`) é uma regra de sintaxe. \n",
    "\n",
    "Semântica é relacionada ao sentido do que está sendo representado. Ainda no exemplo de um código em C, o programador é livre para escolher o nome das variáveis, as quais é sempre recomendado que se tenha um nome que represente a função daquela variável. Esse nome representa a semântica daquela variável."
   ]
  },
  {
   "cell_type": "markdown",
   "id": "bc366926",
   "metadata": {},
   "source": [
    "### Conectivos lógicos da Lógica prosicional"
   ]
  },
  {
   "cell_type": "markdown",
   "id": "e744518f",
   "metadata": {},
   "source": [
    "|Símbolo|Nome|Descrição|\n",
    "|--|--|:--|\n",
    "|¬ ou ~|not|Representa a negação de uma sentença|\n",
    "|^|and|Representa a conjunção entre duas sentenças. Ambas as sentenças devem ser verdadeiras para que a sentença resultante seja verdadeira|\n",
    "|v|or|Representa a disjunção entre duas sentenças. Pelo menos uma das sentenças precisa ser verdadeira para que a sentença resultante seja verdadeira.|\n",
    "|=> ou ->|implicação|O que está à esquerda implica no que está à direita.\n",
    "|<=>|se e somente se|Bicondicional|\n",
    "|⊕|excluse or|Funciona de forma parecida com o 'ou', mas somente uma das sentenças deve ser verdadeira|\n",
    "\n",
    "*A ordem na tabela representa a precedência dos operadores, da mais alta para a mais baixa, com exceção do 'ou exclusivo'"
   ]
  },
  {
   "cell_type": "markdown",
   "id": "d724e08e",
   "metadata": {},
   "source": [
    "### Tabela Verdade para os Conectivos Lógicos"
   ]
  },
  {
   "cell_type": "markdown",
   "id": "d3fd8d1e",
   "metadata": {},
   "source": [
    "|P|Q|~P|P^Q|PvQ|P=>Q|P<=>Q|\n",
    "|:-:|:-:|:-:|:-:|:-:|:-:|:-:|\n",
    "|**false**|**false**|true|false|false|true|true\n",
    "|**false**|**true**|true|false|true|true|false\n",
    "|**true**|**false**|false|false|true|false|false\n",
    "|**true**|**true**|false|true|true|true|true"
   ]
  },
  {
   "cell_type": "markdown",
   "id": "8afbcb72",
   "metadata": {},
   "source": [
    "### Prova de teoremas proposicionais"
   ]
  },
  {
   "cell_type": "markdown",
   "id": "991bd420",
   "metadata": {},
   "source": [
    "Uma equivalência lógica se refere a quando duas sentenças são equivalentes, ou seja, seus valores de verdadeiro e falso são exatamente os mesmos. Por exemplo, uma implicacao `P=>Q` é equivalente a `~PvQ`, e pode ser representado como \n",
    "\n",
    "`P=>Q ≡ ~PvQ`"
   ]
  },
  {
   "cell_type": "markdown",
   "id": "4394aac6",
   "metadata": {},
   "source": [
    "Tautologias são sentenças em que todas as sentenças são válidas, ou seja, é verdadeira em todos os casos."
   ]
  },
  {
   "cell_type": "markdown",
   "id": "2f82b16a",
   "metadata": {},
   "source": [
    "Uma sentença é satisfazível se for verdadeira por algum modelo."
   ]
  },
  {
   "cell_type": "markdown",
   "id": "58a375d9",
   "metadata": {},
   "source": [
    "O Teorema da dedução diz que A |= B se e somente se A => B (B é consequência de A se e somente se A implica em B)."
   ]
  },
  {
   "cell_type": "markdown",
   "id": "8c9b4ad6",
   "metadata": {},
   "source": [
    "### Regras de inferências"
   ]
  },
  {
   "cell_type": "markdown",
   "id": "f8759e74",
   "metadata": {},
   "source": [
    "Modus Ponens: Se tivermos uma inferência do tipo A => B, então B pode ser inferido se A for dado.\n",
    "\n",
    "And-Elimination: Em uma conjunção, se o valor da expressão for verdadeiro, então é possível inferir que qualquer uma das sentenças também é verdadeira\n",
    "\n",
    "Eliminação bicondicional: A <=> B equivale a (A=>B)^(B=>A)"
   ]
  },
  {
   "cell_type": "markdown",
   "id": "ef0fbb49",
   "metadata": {},
   "source": [
    "## Paradigma Lógico de Programação"
   ]
  },
  {
   "cell_type": "markdown",
   "id": "18d3544c",
   "metadata": {},
   "source": [
    "Apenas a próposito de trivia, esse conteúdo me lembrou um pouco sobre o paradigma lógico de programação. Não é um paradigma muito usado ou conhecido, mas linguagens interessantes, como por exemplo o prolog se encontram neste paradigma. Em prolog, existem duas estruturas principais: fatos e regras.\n",
    "\n",
    "Fatos são equivalentes as sentenças explicadas para o agente lógico. Elas formam um banco de dados, e são a principal fonte de consulta para as operações realizadas. Regras por sua vez são equivalentes a funções, e servem principalmente para realizar inferências a partir dos fatos.\n",
    "\n",
    "![Prolog example](https://athena.ecs.csus.edu/~mei/logicp/images/program_sample.png)\n",
    "\n",
    "A imagem acima contém um exemplo de código em prolog. São definidos 3 fatos, que dizem que pessoa A gosta de pessoa B. E a regra friends definida faz a inferência `se A gosta de B, e B gosta de A, então A e B são amigos`.\n",
    "\n",
    "Com tais recursos, talvez este tipo de linguagem seja interessante para criar os agentes discutidos aqui. Mas tal experimento fica pra outra hora :)"
   ]
  },
  {
   "cell_type": "markdown",
   "id": "7a73c6af",
   "metadata": {},
   "source": [
    "## Exemplo - _Persona like battle_"
   ]
  },
  {
   "cell_type": "markdown",
   "id": "dacb1f09",
   "metadata": {},
   "source": [
    "Jogos que apresentam combate em turno, embora apresentem uma certa aleatoriedade para acrescentar no desafio, são em sua maioria simples e para jogá-los, lógica é uma boa coisa a se usar. Os jogos da franquia Persona, assim como Pokemon, tem suas batalhas extremamente focadas em encontrar a fraqueza do inimigo.\n",
    "\n",
    "Um agente lógico para este tipo de ambiente seria interessante no sentido que suas ações seriam otimizadas a cada nova tentantiva, uma vez que todas as afinidades e fraquezas do inimigo são desconhecidas a principio. As primeiras \n",
    "sentenças do agente seriam relacionadas a ações padrões do que pode ser feito. Algo como \n",
    "\n",
    "- `mp_suficiente ^ inimigo_fraco_a_fogo => magia_de_fogo`\n",
    "- `mp_suficiente ^ afinidade_desconhecida_para_fogo => magia_de_fogo`\n",
    "- `mp_suficiente ^ afinidade_desconhecida_para_gelo => magia_de_gelo`\n",
    "- `~mp_suficiente => ataque_normal`\n",
    "- `etc...`\n",
    "\n",
    "Para o segundo e terceiro itens, o agente escolheria de forma aleatória a magia, mas conforme descobertas as afinidades do inimigo, as escolhas seriam mais inteligentes com o tempo. Algumas dessas sentenças poderiam ficar hard-coded no código como uma alternativa.\n",
    "\n",
    "Dessa forma seria possível criar um agente lógico capaz de interagir em um combate de turnos simplificado parecido com Persona ou Pokemon."
   ]
  },
  {
   "cell_type": "markdown",
   "id": "6ce2b918",
   "metadata": {},
   "source": [
    "# Conclusão"
   ]
  },
  {
   "cell_type": "markdown",
   "id": "d6d56b0b",
   "metadata": {},
   "source": [
    "Ao manter os dados já obtidos e fazer inferência a partir deles, os agentes lógicos se tornam uma poderosa ferramenta para trabalhar em ambientes em que a lógica possa ser aplicada de forma consistente."
   ]
  }
 ],
 "metadata": {
  "kernelspec": {
   "display_name": "Python 3 (ipykernel)",
   "language": "python",
   "name": "python3"
  },
  "language_info": {
   "codemirror_mode": {
    "name": "ipython",
    "version": 3
   },
   "file_extension": ".py",
   "mimetype": "text/x-python",
   "name": "python",
   "nbconvert_exporter": "python",
   "pygments_lexer": "ipython3",
   "version": "3.10.8"
  }
 },
 "nbformat": 4,
 "nbformat_minor": 5
}
