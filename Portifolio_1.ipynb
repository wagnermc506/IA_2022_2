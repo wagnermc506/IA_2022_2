{
 "cells": [
  {
   "cell_type": "code",
   "execution_count": 7,
   "id": "5c542188",
   "metadata": {},
   "outputs": [],
   "source": [
    "from IPython.display import IFrame"
   ]
  },
  {
   "cell_type": "markdown",
   "id": "7daff686",
   "metadata": {},
   "source": [
    "# Introdução"
   ]
  },
  {
   "cell_type": "markdown",
   "id": "d544022c",
   "metadata": {},
   "source": [
    "Inteligências Artificiais já são uma realidade utilizada em diversas áreas do mundo da tecnologia e um campo de estudo que não para de crescer. Sistemas de Recomendação, reconhecimento de fala, reconhecimento de imagens e objetos em imagens, geração de diversos tipos de mídias, entre outros são áreas onde IAs apresentam performance em geral superior a o que algoritmos \"hard coded\" poderiam ter. Neste portifólio é apresentado o que são inteligências artificiais, seu histórico e qual o estado da arte dessa área."
   ]
  },
  {
   "cell_type": "markdown",
   "id": "4a3fc0f6",
   "metadata": {},
   "source": [
    "# O que é Inteligência Artificial"
   ]
  },
  {
   "cell_type": "markdown",
   "id": "52d23a9f",
   "metadata": {},
   "source": [
    "A Inteligência artificial se refere a capacidade de uma máquina ou sistema de aprender a tomar decisões e resolver problemas de forma eficaz, tendo como base essas mesmas capacidades encontradas em humanos.\n",
    "\n",
    "Aplicações de Inteligência Artificial se focam na criação de agentes capazes de interagir com o ambiente, e agir de acordo. Existem entretanto, buscas diferentes na criação destes agentes inteligentes. Uma exemplo é criar uma IA que copie com **fidelidade a performance humana** ou uma que haja sempre da forma **mais racional**. A principio é de se esperar que o objetivo seja sempre o comportamento mais racional, mas ao mesmo tempo também se prova um desafio interessante criar uma entidade que também possa apresentar imperfeições humanas.\n",
    "\n",
    "Um exemplo de busca da fidelidade à performance humana é o teste de turing, que de forma geral consiste em uma máquina ser capaz de agir como um humano com tanta fidelidade, que se torna difícil uma pessoa conseguir perceber que é de fato uma máquina. Para este feito, seria necessário uma IA adaptada em várias áreas, passando por:\n",
    "\n",
    "- Processamento de linguagem natural\n",
    "- Representação do conhecimento\n",
    "- Raciocínio automatizado\n",
    "- aprendizado de máquina\n",
    "- visão computacional\n",
    "- reconhecimento de fala\n",
    "- robótica\n",
    "\n",
    "Todas áreas aplicadas de diversas formas atualmente, mas que não se chegou a juntar todas simultâneamente.\n",
    "\n",
    "Outra separação considerada é a do **raciocínio** e **comportamento**. Pensar de forma lógica e racional pode ser possível a partir de regras bem estabelecidas, a partir do uso do silogismo, lógica e probabilidade. A partir dessas definições pode ser possível criar uma IA com capacidade de entender o mundo e fazer previsões. Em relação ao comportamento, por outro lado, é necessário uma adaptabilidade maior a mudanças, uma vez que se espera ações por parte da IA no ambiente que ela opera. \n",
    "\n",
    "A abordagem de IAs capazes de agir (agentes inteligentes) buscando fazer a coisa certa (mais racional) é a que prevaleceu com o tempo, e essa abordagem é chamada de **modelo padrão**.\n",
    "\n",
    "No modelo padrão, é assumido que o objetivo sempre será totalmente especificado para a máquina. Esse modelo passa a ter problemas a partir do momento que fica difícil de especificar esses objetivos corretamente, conforme as aplicações são levadas para o mundo real."
   ]
  },
  {
   "cell_type": "markdown",
   "id": "e780c342",
   "metadata": {},
   "source": [
    "### Fundamentos da Inteligência Artificial"
   ]
  },
  {
   "cell_type": "markdown",
   "id": "42fd514f",
   "metadata": {},
   "source": [
    "A inteligência artificial utiliza de várias disciplinas, dentre elas, temos:\n",
    "\n",
    "- Filosofia\n",
    "- Matemática\n",
    "- Economia\n",
    "- Neurociência\n",
    "- Psicologia\n",
    "- Engenharia da computação\n",
    "- Teoria de controle e cibernética\n",
    "- Linguística\n",
    "- entre outras\n",
    "\n"
   ]
  },
  {
   "cell_type": "markdown",
   "id": "9e4b051c",
   "metadata": {},
   "source": [
    "# Histórico"
   ]
  },
  {
   "cell_type": "markdown",
   "id": "270abdd6",
   "metadata": {},
   "source": [
    "## Mitologia e Ficção"
   ]
  },
  {
   "cell_type": "markdown",
   "id": "b0e7b9bd",
   "metadata": {},
   "source": [
    "A ideia de algum tipo de agente inteligente existe pelo menos desde a grécia antiga, como a lenda de Talos, um gigante de bronze que atuava como guardião da ilha de Creta. Com o tempo, outras entidades do tipo foram sendo criadas, entre elas, o clássico monstro de Frankenstein.\n",
    "\n",
    "A ideia de agentes inteligentes como máquinas capazes de se comunicar a agir como humanos por outro lado é relativamente recente, uma vez que a criação dos computadores é de fato recente.\n",
    "\n",
    "Na ficção, IAs são retratadas das mais diversas formas. Em muitas histórias, elas são apenas um elemento que existe, e não são o foco da história. Em outros, elas estão diretamente relacionadas com o núcleo do que a obra busca apresentar.\n",
    "\n",
    "No primeiro caso, nós tempos o robô em Chrono Trigger. Ele é quarto membro a entrar na equipe, em meio a um mundo completamente destruído em um futuro distópico. O personagem é uma robô com capacidade de comunicação e comportamento próximas a um humano, mas estes são apenas aspectos naturais de um personagem criado em um local com tecnologia avançada. Outros casos seriam assistentes inteligentes, como o Jarvis do Homem de Ferro, que é apenas uma tecnologia que está lá e de fato faz sentido estar.\n",
    "\n",
    "Por outro lado, existem obras inteiras focadas na existência de inteligências artificiais avançadas, que levantam questões éticas interessantes.\n",
    "\n",
    "Um exemplo neste caso é o anime Psycho Pass. Nesta obra, a sociedade do Japão é governada por uma Inteligência Artificial com duas tarefas principais. A primeira é decidir qual o melhor caminho de vida para cada pessoa. A segunda é monitorar e prever quem pode possivelmente cometer algum crime em tempo real. O anime levanta várias discussões interessantes, a partir da premissa de que existe uma entidade que consegue tomar decisões pelos outros com capacidade de acerto extremamente alta. Dentre essas discussões, temos:\n",
    "\n",
    "- O sistema consegue prever qual área profissional você terá um bom desempenho, e praticamente não existe margem de dúvida quanto a essa previsão. Você aceitaria seguir esse caminho?\n",
    "- O sistema pode considerar alguém uma ameaça e decidir se essa pessoa deve continuar viva ou não. Caso a IA decida matar a pessoa, seria realmente o correto seguir essa ordem? (neste caso o executor seria um policial, ou inspetor, na linguagem do anime)"
   ]
  },
  {
   "cell_type": "markdown",
   "id": "75f692c4",
   "metadata": {},
   "source": [
    "## Historico da Inteligência artificial"
   ]
  },
  {
   "cell_type": "markdown",
   "id": "6fd46dad",
   "metadata": {},
   "source": [
    "### O início da inteligência artificial (1943-1956)"
   ]
  },
  {
   "cell_type": "markdown",
   "id": "c8b5913d",
   "metadata": {},
   "source": [
    "Em 1943, Warren McCulloch e Walter Pitts criaram um modelo de neurônios com ativações on e off, controladas a partir  do estimulo dos neurônios vizinhos.\n",
    "\n",
    "Em 1949, Donald Hebb demonstrou uma regra de atualização simples para modificar as forças de conexão entre os neurônios.\n",
    "\n",
    "Em 1951, Marvin Minsky e Dean Edmonds contruíram o primeiro computador de rede neural (SNARC - Stochastic Neural Analog Reinforcement Calculator).\n",
    "\n",
    "Alan Turing apresenta conceitos do teste de turing, aprendizado de máquina, algoritmos genéticos e aprendizado por reforço.\n",
    "\n",
    "Em 1956, é feito o primeiro evento sobre inteligência artificial, o DSRPAI(Dartmouth Summer Research Project on Artificial Intelligence), organizado por John McCarthy e Marvin Minsky. É aqui que o nome \"Inteligência Artificial\" foi cunhado."
   ]
  },
  {
   "cell_type": "markdown",
   "id": "73c9d58c",
   "metadata": {},
   "source": [
    "### Entusiasmo inicial, grandes expectativas (1952-1969)"
   ]
  },
  {
   "cell_type": "markdown",
   "id": "484d1bfa",
   "metadata": {},
   "source": [
    "Criação de uma IA capaz de jogar damas, feita por Arthur Samuel.\n",
    "\n",
    "Criação do Provador do Teorema da Geometria, por Herbert Gelernter, em 1959. \n",
    "\n",
    "Problemas de micro-mundo, redes neurais e perceptrons."
   ]
  },
  {
   "cell_type": "markdown",
   "id": "4520831c",
   "metadata": {},
   "source": [
    "### Uma dose de Realidade (1966-1986)"
   ]
  },
  {
   "cell_type": "markdown",
   "id": "76a66e62",
   "metadata": {},
   "source": [
    "Em 1969, Minsky e Papert provaram que perceptrons poderiam representar muito pouco. O fato dos perceptrons não poderem representar uma simples porta XOR levou ao primeiro inverno de IA."
   ]
  },
  {
   "cell_type": "markdown",
   "id": "b7ebff1e",
   "metadata": {},
   "source": [
    "### Sistemas Especialistas (1969-1986)"
   ]
  },
  {
   "cell_type": "markdown",
   "id": "b24afe70",
   "metadata": {},
   "source": [
    "Em 1969, Ed Feigenbaum, Bruce Buchanan e Joshua Lederberg criam um sistema para inferir a estrutura molecular a partir de informações fornecidas por um espectrômetro de massa.\n",
    "\n",
    "O sistema MYCIN para diagnosticar infecções no sangue.\n",
    "\n",
    "Ascenção de sistemas especialistas, sistemas de visão, robôs, software e hardware especializado para essas áreas.\n",
    "\n",
    "Por não conseguiram cumprir promessas extravagantes, muitas empresas fecharam, e isso trouxe um segundo inverno de IA."
   ]
  },
  {
   "cell_type": "markdown",
   "id": "5509e425",
   "metadata": {},
   "source": [
    "### O retorno"
   ]
  },
  {
   "cell_type": "markdown",
   "id": "ee891bf8",
   "metadata": {},
   "source": [
    "O algoritmo de retropropagação foi reescrito e melhorado.\n",
    "\n",
    "Com a melhoria da capacidade dos computadores, as empresas começaram a coletar cada vez mais dados, levando eventualmente a chamada **Big Data**. O grande volume de dados é extremamente útil para treinar novas IAs.\n",
    "\n",
    "O aprendizado profundo (Deep Learning) passou a ser extensivamente usado. E as aplicações de inteligência artificial voltaram a ganhar o interesse do público em geral, incluindo empresas, mídia, governos, entre outros.\n"
   ]
  },
  {
   "cell_type": "markdown",
   "id": "86512a8b",
   "metadata": {},
   "source": [
    "# Estado da Arte, Benefícios e Riscos"
   ]
  },
  {
   "cell_type": "markdown",
   "id": "c01f1f24",
   "metadata": {},
   "source": [
    "## Stanford University's One Hundred Year Study on AI (AI100)"
   ]
  },
  {
   "cell_type": "markdown",
   "id": "aaf22a34",
   "metadata": {},
   "source": [
    "A AI100 é um evento que teve sua primeira publicação em um relatório em 2016, e conta com a participação de profissionais da área com anos de experiência. A ideia desse evento é ter um painel de estudo a cada 5 anos por pelo menos 100 anos. O último relatório foi lançado em 2021, e pode ser baixado no site do [AI100](https://ai100.stanford.edu/gathering-strength-gathering-storms-one-hundred-year-study-artificial-intelligence-ai100-2021-study). O relatório é organizado principalmente a partir da resposta de algumas perguntas pertinentes à área de Inteligência Artificial feitas durante o painel de estudo, e também em workshops organizados nesse meio tempo. O relatório passa por temas como os últimos avanços, desafios para o futuro, leis e regulamentos, comunicação com o público, entre outros."
   ]
  },
  {
   "cell_type": "markdown",
   "id": "5d55afcc",
   "metadata": {},
   "source": [
    "## O estado da arte e além"
   ]
  },
  {
   "cell_type": "markdown",
   "id": "eedc2478",
   "metadata": {},
   "source": [
    "Inteligências Artificiais já são um elemento natural na vida das pessoas. Ao realizar uma compra em uma loja virtual como a Amazon, assistir uma série na Netflix, ouvir uma música no Spotify ou assistir um vídeo qualquer no youtube, esses dados serão armazenados, processados, e logo você terá recomendações exclusivas feitas por IAs aparecendo em sua tela.\n",
    "\n",
    "Qualquer Smartphone atual tem um tipo de assistente inteligente, ao qual você pode fazer perguntas, agendar notificações, ou realizar outros tipos de tarefas. Ouvir e processar a linguagem humana, assim como responder de acordo são tarefas de uma IA. Já resolveu um famigerado re:captcha para provar que não é um robô? Bom, você ajudou algoritmos de treino de IA.\n",
    "\n",
    "Com os avanços na área, aparecem também aplicações que chamam mais a atenção do público e da mídia. O advento de carros autônomos, IAs feitas especificamente para jogar jogos como xadrez, go ou até mesmo Dota 2. IAs capazes de gerar textos, imagens e até vídeos. Robôs capazes de se movimentar como humanos ou animais em solos nada planos.\n",
    "\n",
    "```\n",
    "Devido ao meu alto interesse em jogos eletrônicos, principalmente jogos single player, darei um foco maior em aplicações que talvez tenham passado despercebidos por muitas pessoas :)\n",
    "```"
   ]
  },
  {
   "cell_type": "markdown",
   "id": "f9025abd",
   "metadata": {},
   "source": [
    "#### MarI/O e MarIQ"
   ]
  },
  {
   "cell_type": "markdown",
   "id": "fcea8c89",
   "metadata": {},
   "source": [
    "MarI/O é um projeto de IA cujo objetivo é a criação de uma inteligência artificial capaz de jogar uma fase específica do jogo Super Mario World. A propósito de curiosidade, Seth Bling é um tipo de hacker do jogo. Ele é o criador da última estratégia utilizada para zerar o jogo na categoria **0 exit**, cujo objetivo é pular para a tela de créditos do jogo em sua primeira fase a partir da manipulação da memória do Super Nintendo. A IA utiliza aprendizado genético, e levou 24 horas de treino para a IA aprender a passar a fase sem problemas.\n",
    "\n",
    "O vídeo pode ser visto abaixo."
   ]
  },
  {
   "cell_type": "code",
   "execution_count": 11,
   "id": "3deea12e",
   "metadata": {},
   "outputs": [
    {
     "data": {
      "text/html": [
       "\n",
       "        <iframe\n",
       "            width=\"560\"\n",
       "            height=\"315\"\n",
       "            src=\"https://www.youtube.com/embed/qv6UVOQ0F44\"\n",
       "            frameborder=\"0\"\n",
       "            allowfullscreen\n",
       "            \n",
       "        ></iframe>\n",
       "        "
      ],
      "text/plain": [
       "<IPython.lib.display.IFrame at 0x7fdcd6b985e0>"
      ]
     },
     "execution_count": 11,
     "metadata": {},
     "output_type": "execute_result"
    }
   ],
   "source": [
    "IFrame(width=560, height=315, src=\"https://www.youtube.com/embed/qv6UVOQ0F44\")"
   ]
  },
  {
   "cell_type": "markdown",
   "id": "48adaf65",
   "metadata": {},
   "source": [
    "Outro projeto do Seth é a criação de uma IA capaz de jogar Super Mario Kart, jogo também lançado no Super Nintendo.\n",
    "Eles fez duas tentativas para tal, a primeira foi o projeto [MariFlow](https://www.youtube.com/watch?v=Ipi40cb_RsI&t=129s), cujo objetivo era treinar uma IA a jogar o jogo usando uma rede neural recorrente para imitar o estilo de jogo dele. O segundo projeto foi o MarIQ, que por sua vez utiliza aprendizado por reforço de forma que a IA consiga aprender sem nenhuma interferência."
   ]
  },
  {
   "cell_type": "code",
   "execution_count": 12,
   "id": "535a5f4a",
   "metadata": {},
   "outputs": [
    {
     "data": {
      "text/html": [
       "\n",
       "        <iframe\n",
       "            width=\"560\"\n",
       "            height=\"315\"\n",
       "            src=\"https://www.youtube.com/embed/Ipi40cb_RsI\"\n",
       "            frameborder=\"0\"\n",
       "            allowfullscreen\n",
       "            \n",
       "        ></iframe>\n",
       "        "
      ],
      "text/plain": [
       "<IPython.lib.display.IFrame at 0x7fdcd6b98400>"
      ]
     },
     "execution_count": 12,
     "metadata": {},
     "output_type": "execute_result"
    }
   ],
   "source": [
    "IFrame(width=560, height=315, src=\"https://www.youtube.com/embed/Ipi40cb_RsI\")"
   ]
  },
  {
   "cell_type": "markdown",
   "id": "7952e5a3",
   "metadata": {},
   "source": [
    "#### Grandes Desafios"
   ]
  },
  {
   "cell_type": "markdown",
   "id": "198995fb",
   "metadata": {},
   "source": [
    "A terceira pergunta que a AI100 busca responder está relacionada aos grandes desafios do campo. É interessante observar a evolução dos desafios que surgem com o tempo. Até um tempo atrás, criar uma IA capaz de vencer um campeão mundial em jogos como xadrez era um desafio considerável, e atualmente já é uma realidade. Carros autônomos ainda são um desafio, mas já são uma realidade.\n",
    "\n",
    "Dentre os novos grandes desafios, o relatório cita a criação de uma IA que passe no teste de Turing. IAs capazes de trabalhar em equipe, tanto entre si como com humanos, como no projeto RoboCup, cujo objetivo é criar, até 2050, um time formado por robôs capazes de vencer campões mundiais de futebol. Outros exemplos também envolvem IAs capazes de resolver problemas da olimpiada internacional de matemática em tempo hábil e até mesmo uma IA que consiga fazer descobertas cientificas por si."
   ]
  },
  {
   "cell_type": "markdown",
   "id": "6ad00433",
   "metadata": {},
   "source": [
    "## Riscos e benefícios da IA"
   ]
  },
  {
   "cell_type": "markdown",
   "id": "cbe30312",
   "metadata": {},
   "source": [
    "Assim como qualquer outra coisa, as IAs também trazem trade-offs quanto as vantagens e desvantagens de sua utilização.\n",
    "\n",
    "Dentro os benefícios, podemos citar aspectos como automatizar e melhorar a eficiência de trabalhos físicos que apresentam riscos para pessoas. A segurança pública pode ser melhorada com as diversas técnicas de reconhecimento empregadas por IA. Filtros podem ser empregados para melhor fornecimento de informação, entre outros.\n",
    "\n",
    "Por outro lado, tudo isso precisa de cuidado se for implementado. O \"risco\" de uma IA capaz de subjulgar a humanidade é um medo que está se dissipando com o tempo, porém essas aplicações ainda podem trazer diversos problemas sociais e de ética.\n",
    "\n",
    "Substituir pessoas em suas tarefas pode causar mais desemprego. Técnicas de monitoração avançadas para segurança podem apresentar biases com pessoas de diferentes etnias, por exemplo, além de ameaçar a privacidade ou ser usado como ferramenta politíca. As chamadas Fake News também podem ser eventualmente ainda mais disseminadas se houver um uso incorreto de inteligência artificial. \n",
    "\n",
    "Considerando os aspectos éticos, é importante que as Inteligências Artificiais utilizem dados que não inflijam licenças de uso, e ao mesmo tempo utilizem datasets com representabilidade grande o suficiente para que não acidentes ou pessoas não sejam acusadas falsamente por qualquer motivo."
   ]
  },
  {
   "cell_type": "markdown",
   "id": "82e819d4",
   "metadata": {},
   "source": [
    "# Conclusão"
   ]
  },
  {
   "cell_type": "markdown",
   "id": "080165f5",
   "metadata": {},
   "source": [
    "Desde o retorno do segundo inverno da IA, com o avanço do poder computacional de todo tipo de dispositivo e a grande quantidade de dados coletada, é muito difícil que ocorra um terceiro inverno. Aplicações da inteligência artificial em múltiplas áreas já estão sendo usadas no mundo real, e a tendência é um aumento constante."
   ]
  }
 ],
 "metadata": {
  "kernelspec": {
   "display_name": "Python 3 (ipykernel)",
   "language": "python",
   "name": "python3"
  },
  "language_info": {
   "codemirror_mode": {
    "name": "ipython",
    "version": 3
   },
   "file_extension": ".py",
   "mimetype": "text/x-python",
   "name": "python",
   "nbconvert_exporter": "python",
   "pygments_lexer": "ipython3",
   "version": "3.10.7"
  }
 },
 "nbformat": 4,
 "nbformat_minor": 5
}
