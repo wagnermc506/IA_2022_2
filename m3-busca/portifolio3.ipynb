{
 "cells": [
  {
   "cell_type": "code",
   "execution_count": 1,
   "id": "1ee5d89d",
   "metadata": {},
   "outputs": [],
   "source": [
    "from IPython.core.display import HTML"
   ]
  },
  {
   "cell_type": "markdown",
   "id": "2bed1bbb",
   "metadata": {},
   "source": [
    "# Resolvendo problemas por busca"
   ]
  },
  {
   "cell_type": "markdown",
   "id": "48a97944",
   "metadata": {},
   "source": [
    "## Agente de soluções de problemas"
   ]
  },
  {
   "cell_type": "markdown",
   "id": "72d90660",
   "metadata": {},
   "source": [
    "Agentes de soluções de problemas são agentes baseados em objetivos que buscam a melhor sequência de ações baseado nas opções de ações possíveis.\n",
    "\n",
    "Problemas de malha aberta são problemas onde não é necessária uma nova percepção a cada passo em direção ao objetivo. Nesse tipo de problema, o agente tem um ambiente totalmente observável e a resolução do problema não lida com incertezas, sendo determinístico.\n",
    "\n",
    "Problemas de malha fechada, por outro lado, apresentam incertezas no ambiente de forma que a melhor sequência pode variar"
   ]
  },
  {
   "cell_type": "markdown",
   "id": "ba8eeb05",
   "metadata": {},
   "source": [
    "## Algoritmos de Busca"
   ]
  },
  {
   "cell_type": "markdown",
   "id": "7ee3b786",
   "metadata": {},
   "source": [
    "Há dois tipos de algortimos de busca, chamados de busca cega e busca informada.\n",
    "\n",
    "- **Busca cega**: Não recebem nenhuma informação do quão próximos estão do objetivo;\n",
    "- **Busca informada**: Recebem informações heurísticas da proximidade com o objetivo."
   ]
  },
  {
   "cell_type": "markdown",
   "id": "ba78fdcd",
   "metadata": {},
   "source": [
    "Para análisar a performance de algoritmos de busca, algumas características podem ser observadas, sendo elas:\n",
    "    \n",
    "- **Completude**: O algoritmo garante encontrar uma solução, se ela existir. E retorna um erro se a solução não existir.\n",
    "- **Otimização**: O algoritmo garante encontrar a solução com menor custo.\n",
    "- **Complexidade de tempo**: Quanto tempo o algoritmo leva para encontrar um solução.\n",
    "- **Complexidade de espaço**: Quantidade de memória necessária para computar a solução.\n",
    "- **Caminhos redundantes**: O grafo apresenta ciclos e o algoritmo cuida deles de alguma forma."
   ]
  },
  {
   "cell_type": "markdown",
   "id": "3a728809",
   "metadata": {},
   "source": [
    "## Grafos"
   ]
  },
  {
   "cell_type": "markdown",
   "id": "83559f9b",
   "metadata": {},
   "source": [
    "Antes de avançar para os algoritmos em si, falaremos um pouco sobre os grafos. Grafos são uma estrutura de dados que servem para modelar diversos tipos de problemas, desde máquinas de estados ou localizações. Os algoritmos de busca aqui citados, sejam eles de busca cega ou informada, utilizam essa estrutura.\n",
    "\n",
    "A seguir uma breve explicação dos principais conceitos relacionados a grafos:\n",
    "\n",
    "- **Node(nó)**: Um nó é uma entidade, algo que pode conter atributos e ser relacionado a outros nós. Um estado numa máquina de estados, uma cidade em um mapa, os animais em uma cadeia alimentar, dentre outros podem ser nós em um grafo.\n",
    "- **Edge(aresta)**: Uma aresta é uma ligação entre nós de algum tipo. Uma rodovia entre duas cidades, por exemplo.\n",
    "- **Direção da aresta**: Arestas podem ou não apresentar direções. Dados dois nós `A` e `B`. Se uma aresta for não direcionada, então é possível avançar nos dois sentidos, tanto de `A` para `B` quanto de `B` para `A`. Se uma aresta tiver direção, então só é possível ir de um nó para o outro, sem volta.\n",
    "- **Peso de aresta**: Arestas também podem apresentar atributos(como o nome de uma rodovia, por exemplo), mas o mais relevante e conhecido é o peso. O peso de uma aresta pode reprentar uma distância ou dificuldade/facilidade para ir de um nó ao outro."
   ]
  },
  {
   "cell_type": "markdown",
   "id": "be461b87",
   "metadata": {},
   "source": [
    "## Busca Cega"
   ]
  },
  {
   "cell_type": "markdown",
   "id": "55bd9f4c",
   "metadata": {},
   "source": [
    "Algoritmos de busca cega são algoritmos cuja estratégia é visitar nó a nó até encontrar o objetivo. Alguns algoritmos deste tipo são:\n",
    "\n",
    "- Breadth First Search (bfs)\n",
    "- Depth First Search (dfs)\n",
    "- Uniform Cost Search (ucs)"
   ]
  },
  {
   "cell_type": "markdown",
   "id": "44ba8a41",
   "metadata": {},
   "source": [
    "Para demonstrar a aplicação dos algoritmos, será usado de exemplo o \"mapa\" do primeiro `Super Mario Bros`. O jogo contém 32 estágios, separados em 8 mundos. O caminho normal é uma linha reta da primeira ao último estágio, mas as fases 1-2 e 4-2 apresentam atalhos(warps, como chamadados no jogo) para outros mundos.\n",
    "\n",
    "Para a estrutura do grafo, foi utilizado um dicionário onde cada chave é um nó. E os valores são uma tupla cujo segundo elemento é a heurística, um valor que representa o quão longe se está da fase final, e o primeiro elemento é uma lista de tuplas com os vizinhos daquele nó e seus respectivos pesos. \n",
    "\n",
    "Obs.: O valor da heurística não é relevante para a busca cega, assim como todos os pesos estão com valor 0 para este grafo em especifico. Ambos os atributos estão aqui pois o grafo será reutilizado na busca informada."
   ]
  },
  {
   "cell_type": "markdown",
   "id": "a4789f4a",
   "metadata": {},
   "source": [
    "O mapa do jogo está representado na célula abaixo, assim como algumas funções úteis:"
   ]
  },
  {
   "cell_type": "code",
   "execution_count": 2,
   "id": "3f0f7c15",
   "metadata": {},
   "outputs": [],
   "source": [
    "from typing import List, Dict, Tuple\n",
    "from queue import SimpleQueue\n",
    "\n",
    "# Declara o tipo de dado Graph. É opcional uma vez que python não usa os type hints, mas é útil :)\n",
    "Graph = Dict[str, Tuple[List[str], int]]\n",
    "\n",
    "graph: Graph = {\n",
    "    \"1-1\": ([(\"1-2\", 0)], 31),\n",
    "    \"1-2\": ([(\"1-3\", 0), (\"2-1\", 0), (\"3-1\", 0), (\"4-1\", 0)], 30),\n",
    "    \"1-3\": ([(\"1-4\", 0)], 29),\n",
    "    \"1-4\": ([(\"2-1\", 0)], 28),\n",
    "    \"2-1\": ([(\"2-2\", 0)], 27),\n",
    "    \"2-2\": ([(\"2-3\", 0)], 26),\n",
    "    \"2-3\": ([(\"2-4\", 0)], 25),\n",
    "    \"2-4\": ([(\"3-1\", 0)], 24),\n",
    "    \"3-1\": ([(\"3-2\", 0)], 23),\n",
    "    \"3-2\": ([(\"3-3\", 0)], 22),\n",
    "    \"3-3\": ([(\"3-4\", 0)], 21),\n",
    "    \"3-4\": ([(\"4-1\", 0)], 20),\n",
    "    \"4-1\": ([(\"4-2\", 0)], 19),\n",
    "    \"4-2\": ([(\"4-3\", 0), (\"5-1\", 0), (\"6-1\", 0), (\"7-1\", 0), (\"8-1\", 0)], 18),\n",
    "    \"4-3\": ([(\"4-4\", 0)], 17),\n",
    "    \"4-4\": ([(\"5-1\", 0)], 16),\n",
    "    \"5-1\": ([(\"5-2\", 0)], 15),\n",
    "    \"5-2\": ([(\"5-3\", 0)], 14),\n",
    "    \"5-3\": ([(\"5-4\", 0)], 13),\n",
    "    \"5-4\": ([(\"6-1\", 0)], 12),\n",
    "    \"6-1\": ([(\"6-2\", 0)], 11),\n",
    "    \"6-2\": ([(\"6-3\", 0)], 10),\n",
    "    \"6-3\": ([(\"6-4\", 0)], 9),\n",
    "    \"6-4\": ([(\"7-1\", 0)], 8),\n",
    "    \"7-1\": ([(\"7-2\", 0)], 7),\n",
    "    \"7-2\": ([(\"7-3\", 0)], 6),\n",
    "    \"7-3\": ([(\"7-4\", 0)], 5),\n",
    "    \"7-4\": ([(\"8-1\", 0)], 4),\n",
    "    \"8-1\": ([(\"8-2\", 0)], 3),\n",
    "    \"8-2\": ([(\"8-3\", 0)], 2),\n",
    "    \"8-3\": ([(\"8-4\", 0)], 1),\n",
    "    \"8-4\": ([], 0)\n",
    "}\n",
    "\n",
    "NEIGHBORS = 0\n",
    "HEURISTIC = 1\n",
    "\n",
    "NEIGHBOR = 0\n",
    "WEIGHT = 1\n",
    "\n",
    "def get_nodes(graph: Graph):\n",
    "    \"\"\"\n",
    "    Retorna uma lista com todos os nós do grafo\n",
    "    \"\"\"\n",
    "    return list(graph.keys())\n",
    "\n",
    "def get_neighbors(graph: Graph, node: str):\n",
    "    \"\"\"\n",
    "    Retorna uma lista com os nós vizinhos de um determinado nó, sem os pesos\n",
    "    \"\"\"\n",
    "    return list(map(lambda n: n[NEIGHBOR], graph.get(node, ([], 0))[NEIGHBORS]))\n",
    "\n",
    "def get_heuristic_value(graph: Graph, node: str):\n",
    "    \"\"\"\n",
    "    Pega o valor da heurística de um determinado nó\n",
    "    \"\"\"\n",
    "    return graph.get(node, ([], 0))[HEURISTIC]\n",
    "\n",
    "def get_weight(graph: Graph, node_a: str, node_b: str):\n",
    "    \"\"\"\n",
    "    Pega o peso atribuído de um nó A a um nó B\n",
    "    \"\"\"\n",
    "    l = graph.get(node_a, ([], 0))[NEIGHBORS]\n",
    "    for i in l:\n",
    "        if i[NEIGHBOR] == node_b:\n",
    "            return i[WEIGHT]"
   ]
  },
  {
   "cell_type": "markdown",
   "id": "a9736d6b",
   "metadata": {},
   "source": [
    "## BFS"
   ]
  },
  {
   "cell_type": "markdown",
   "id": "b57954ad",
   "metadata": {},
   "source": [
    "O algoritmo **Breadth First Search**, ou BFS faz uma pesquisa por camadas, ou seja, ele visita todos os vizinhos antes de avançar para o próximo nível.\n",
    "Este algoritmo sempre alcança o menor caminho possível (ótimo) se o grafo não tiver pesos na aresta."
   ]
  },
  {
   "cell_type": "code",
   "execution_count": 3,
   "id": "b150267d",
   "metadata": {},
   "outputs": [
    {
     "data": {
      "text/html": [
       "<img src=\"https://upload.wikimedia.org/wikipedia/commons/4/46/Animated_BFS.gif\">"
      ],
      "text/plain": [
       "<IPython.core.display.HTML object>"
      ]
     },
     "execution_count": 3,
     "metadata": {},
     "output_type": "execute_result"
    }
   ],
   "source": [
    "HTML(\"\"\"<img src=\"https://upload.wikimedia.org/wikipedia/commons/4/46/Animated_BFS.gif\">\"\"\")"
   ]
  },
  {
   "cell_type": "code",
   "execution_count": 4,
   "id": "0a374d33",
   "metadata": {},
   "outputs": [],
   "source": [
    "SELF = 0\n",
    "PARENT = 1\n",
    "\n",
    "def bfs(graph, initial_node, target_node):\n",
    "    \"\"\"\n",
    "    Busca em largura. Pega como parâmetros o grafo, o nó inicial e o nó final(objetivo).\n",
    "    Retorna a lista de visitados e o nó final, se acançavel\n",
    "    \"\"\"\n",
    "    visited: List[Tuple[str, str]] = []\n",
    "    fifo = SimpleQueue()\n",
    "    \n",
    "    #        (SELF, PARENT)\n",
    "    fifo.put((initial_node, None))\n",
    "    \n",
    "    while not fifo.empty():\n",
    "        current_node = fifo.get()\n",
    "        \n",
    "        visited.append(current_node)\n",
    "        \n",
    "        if current_node[SELF] == target_node:\n",
    "            return visited, current_node[SELF]\n",
    "        \n",
    "        neighbors = get_neighbors(graph, current_node[SELF])\n",
    "        for i in neighbors:\n",
    "            if i not in list(map(lambda x: x[0], visited)):\n",
    "                fifo.put((i, current_node[SELF]))\n",
    "    \n",
    "    return visited, None"
   ]
  },
  {
   "cell_type": "code",
   "execution_count": 5,
   "id": "882bb0b7",
   "metadata": {},
   "outputs": [],
   "source": [
    "def visited_list_to_dict(visited):\n",
    "    \"\"\"\n",
    "    helper function para criar o caminho\n",
    "    \"\"\"\n",
    "    return dict(visited)\n",
    "\n",
    "def get_bfs_path(graph, initial_node, target_node):\n",
    "    \"\"\"\n",
    "    processa o caminho a partir da resposta da função bfs\n",
    "    \"\"\"\n",
    "    visited, node = bfs(graph, initial_node, target_node)\n",
    "    if node == None:\n",
    "        return []\n",
    "    path = [visited[-1][0]]\n",
    "    visited_d = visited_list_to_dict(visited)\n",
    "    while True:\n",
    "        if visited_d[path[-1]] is None:\n",
    "            return path[::-1]\n",
    "        path.append(visited_d[path[-1]])"
   ]
  },
  {
   "cell_type": "code",
   "execution_count": 6,
   "id": "16d3d0ef",
   "metadata": {},
   "outputs": [
    {
     "data": {
      "text/plain": [
       "['1-1', '1-2', '4-1', '4-2', '8-1', '8-2', '8-3', '8-4']"
      ]
     },
     "execution_count": 6,
     "metadata": {},
     "output_type": "execute_result"
    }
   ],
   "source": [
    "# Como esperado, ele pega os warps para o mundo 4, e depois para o mundo 8, que é o menor caminho :)\n",
    "get_bfs_path(graph, '1-1', '8-4')"
   ]
  },
  {
   "cell_type": "markdown",
   "id": "8f426b88",
   "metadata": {},
   "source": [
    "## Busca Informada"
   ]
  },
  {
   "cell_type": "markdown",
   "id": "c95b1eca",
   "metadata": {},
   "source": [
    "Algoritmos de busca informada utilizam de informações, ou dicas do quão próximos estão do objetivo. Desta forma, é possível empregar estratégias mais inteligentes para convergir ao objetivo.\n",
    "\n",
    "Essas informações são chamadas de heurísticas, que por sua vez podem ser números exatos ou aproximações do quão próximo se está do objetivo. Vale ressaltar que estes são valores que em geral, ajudam a chegar no objetivo mais rapidamente, mas não será sempre o caso.\n",
    "\n",
    "Exemplos de heurísticas:\n",
    "\n",
    "- Distância entre dois nós, em um mapa por exemplo;\n",
    "- Quantidade de peças em posição certa ou errada, no caso de quebra cabeças;\n",
    "\n",
    "Alguns algoritmos para busca informada são:\n",
    "\n",
    "- Greedy Search\n",
    "- A* Search\n",
    "- Graph Search"
   ]
  },
  {
   "cell_type": "markdown",
   "id": "57735609",
   "metadata": {},
   "source": [
    "## A*"
   ]
  },
  {
   "cell_type": "markdown",
   "id": "70b3a4dd",
   "metadata": {},
   "source": [
    "No exemplo prático deste tipo de algoritmos, reutilizaremos o mapa do super mario, porém com o algoritmo `A*`.\n",
    "Este algoritmo utiliza como função de escolha para o próximo nó(`f(x)`), a soma acumulada até o nó atual(`g(x)`), mais o valor da heurística para aquele nó(`h(x)`).\n",
    "\n",
    "f(x) = g(x) + h(x)\n",
    "\n",
    "O algoritmo não é ótimo, uma vez que depende da heurística, que nem sempre terá os melhores valores. Mas sempre achará um caminho, desde que ele exista."
   ]
  },
  {
   "cell_type": "code",
   "execution_count": 7,
   "id": "866ebd81",
   "metadata": {},
   "outputs": [],
   "source": [
    "from queue import PriorityQueue\n",
    "\n",
    "SELF_ = 0\n",
    "PARENT_ = 1\n",
    "G_VALUE = 2\n",
    "\n",
    "def a_star(graph, start_node, target_node):\n",
    "    \"\"\"\n",
    "    Recebe o grafo, o nó inicial e o nó objetivo.\n",
    "    Retorna o caminho, se ele existir\n",
    "    \"\"\"\n",
    "    \n",
    "    # Fila de prioridade é útil para sempre pegar o valor mais baixo\n",
    "    pfifo = PriorityQueue()\n",
    "    #         (F_VALUE, (SELF_, PARENT_, G_VALUE))\n",
    "    pfifo.put((0, (start_node, None, 0)))\n",
    "    \n",
    "    visited = {}\n",
    "    \n",
    "    while not pfifo.empty():\n",
    "        cur_value, cur_node = pfifo.get()\n",
    "        \n",
    "        if cur_node[SELF] in visited:\n",
    "            continue\n",
    "        \n",
    "        visited[cur_node[SELF]] = (cur_node[G_VALUE], cur_node[PARENT_])\n",
    "        \n",
    "        if cur_node[SELF] == target_node:\n",
    "            return visited\n",
    "        \n",
    "        for neighbor in get_neighbors(graph, cur_node[SELF]):\n",
    "            g = cur_node[G_VALUE] + get_weight(graph, cur_node[SELF], neighbor)\n",
    "            f = g + get_heuristic_value(graph, neighbor)\n",
    "            \n",
    "            if visited.get(neighbor, False):\n",
    "                if g < visited[neighbor][0]:\n",
    "                    visited[neighbor] = (g, cur_node[SELF])\n",
    "            else:\n",
    "                pfifo.put((f, (neighbor, cur_node[SELF], g)))\n",
    "    \n",
    "    return None"
   ]
  },
  {
   "cell_type": "code",
   "execution_count": 11,
   "id": "5d563cf6",
   "metadata": {},
   "outputs": [],
   "source": [
    "def get_astar_path(graph, start_node, target_node):\n",
    "    \"\"\"\n",
    "    Monta o caminho do A-estrela\n",
    "    \"\"\"\n",
    "    result = a_star(graph, start_node, target_node)\n",
    "    if result is None:\n",
    "        print(\"No path\")\n",
    "    path = [target_node]\n",
    "    while True:\n",
    "        parent = result[path[-1]][1]\n",
    "        if parent is None:\n",
    "            break\n",
    "        path.append(parent)\n",
    "    return path[::-1]"
   ]
  },
  {
   "cell_type": "code",
   "execution_count": 9,
   "id": "72911fdb",
   "metadata": {},
   "outputs": [],
   "source": [
    "# Esta é uma representação do grafo utilizado nos slides das aulas para este mesmo algoritmo\n",
    "slide_graph = {\n",
    "    \"A\": ([(\"B\", 1), (\"C\", 2)], 5),\n",
    "    \"B\": ([(\"D\", 4), (\"E\", 6)], 3),\n",
    "    \"C\": ([(\"F\", 3), (\"G\", 2)], 4),\n",
    "    \"D\": ([(\"E\", 7)], 2),\n",
    "    \"E\": ([], 6),\n",
    "    \"F\": ([(\"H\", 1)], 3),\n",
    "    \"G\": ([(\"H\", 2)], 1),\n",
    "    \"H\": ([], 0)\n",
    "}"
   ]
  },
  {
   "cell_type": "code",
   "execution_count": 12,
   "id": "f6479855",
   "metadata": {},
   "outputs": [
    {
     "data": {
      "text/plain": [
       "['1-1', '1-2', '4-1', '4-2', '8-1', '8-2', '8-3', '8-4']"
      ]
     },
     "execution_count": 12,
     "metadata": {},
     "output_type": "execute_result"
    }
   ],
   "source": [
    "# Mapa do Mario. Mesmo caminho do bfs, que é o caminho ótimo\n",
    "get_astar_path(graph, '1-1', '8-4')"
   ]
  },
  {
   "cell_type": "code",
   "execution_count": 13,
   "id": "bf3b1965",
   "metadata": {},
   "outputs": [
    {
     "data": {
      "text/plain": [
       "['A', 'C', 'G', 'H']"
      ]
     },
     "execution_count": 13,
     "metadata": {},
     "output_type": "execute_result"
    }
   ],
   "source": [
    "get_astar_path(slide_graph, 'A', 'H')"
   ]
  },
  {
   "cell_type": "code",
   "execution_count": 14,
   "id": "e7d7d77d",
   "metadata": {},
   "outputs": [
    {
     "data": {
      "text/plain": [
       "['C', 'G', 'H']"
      ]
     },
     "execution_count": 14,
     "metadata": {},
     "output_type": "execute_result"
    }
   ],
   "source": [
    "get_astar_path(slide_graph, 'C', 'H')"
   ]
  },
  {
   "cell_type": "markdown",
   "id": "0def5282",
   "metadata": {},
   "source": [
    "## Procura em ambientes complexos"
   ]
  },
  {
   "cell_type": "markdown",
   "id": "c5330435",
   "metadata": {},
   "source": [
    "Os algoritmos apresentados até o momento se preocupam com o caminho para chegar de um nó a outro. Essa nem sempre é uma preocupação, e em alguns casos, apenas o estado final é importante. Para estes casos, temos os algoritmos de `busca local`.\n",
    "\n",
    "Estes algoritmos tentam otimizar seus valores buscando valores melhores em seus vizinhos. Se o objetivo for uma elevação, então encontrar o maior pico é o processo de `hill climbing`. Se o objetivo é minimizar custos, então o processo é chamado `gradient descent`.\n",
    "\n",
    "O algoritmo de hill climbing utiliza os seguintes passos [(ref*)](https://www.cs.iusb.edu/~danav/teach/c463/6_local_search.html):\n",
    "\n",
    "- De um estado atual, se mova para algum dos estados vizinhos indo pra cima. Se houverem vários vizinhos com o valor maior, escolha o com o maior deles;\n",
    "- Se o estado atual for o maior, o algoritmo encerra;\n",
    "- Se chegar a um plateau (uma \"planície\"), pule para algum lado e continue a busca.\n",
    "\n",
    "Algumas variações deste algoritmo podem ser implementadas, como:\n",
    "\n",
    "- HC estocástico: ao invés do maior, escolha aleatoriamente o vizinho com valor maior do que o atual;\n",
    "- HC primeira escolha: vá para o primeiro vizinho encontrado;\n",
    "- Reinicio aleatório: Os movimentos para os lados são feitos de forma aleatória;\n",
    "- HC evolutivo: representa soluções em potencial e vai mantendo os melhores até chegar a um resultado."
   ]
  },
  {
   "cell_type": "markdown",
   "id": "94247891",
   "metadata": {},
   "source": [
    "## Algoritmos Genéticos"
   ]
  },
  {
   "cell_type": "markdown",
   "id": "037d664e",
   "metadata": {},
   "source": [
    "Algoritmos genéticos são baseados na teoria da evolução de Darwin. \"Indivíduos\" ou estados aleatórios são gerados, e cada nova iteração, os melhores são mantidos e combinados entre si para gerar novos indivíduos com parâmetros melhores."
   ]
  },
  {
   "cell_type": "markdown",
   "id": "66969f1f",
   "metadata": {},
   "source": [
    "O exemplo prático neste caso é uma IA que aprende a jogar o jogo do dinossauro do google. O algoritmo foi retirado do blog [turing talks](https://medium.com/turing-talks/turing-talks-8-algoritmos-gen%C3%A9ticos-a791c25bd7ba). O código pode ser encontrado na pasta do portifólio no teams ou no repositório do git.\n",
    "\n",
    "Para rodar o exemplo, é necessário a biblioteca do chrome_trex e o numpy. Para instalar usando o pip, segue o comando:\n",
    "\n",
    "```\n",
    "pip install --user git+https://github.com/GrupoTuringCodes/chrome-trex-rush@master numpy\n",
    "```"
   ]
  }
 ],
 "metadata": {
  "kernelspec": {
   "display_name": "Python 3 (ipykernel)",
   "language": "python",
   "name": "python3"
  },
  "language_info": {
   "codemirror_mode": {
    "name": "ipython",
    "version": 3
   },
   "file_extension": ".py",
   "mimetype": "text/x-python",
   "name": "python",
   "nbconvert_exporter": "python",
   "pygments_lexer": "ipython3",
   "version": "3.10.8"
  }
 },
 "nbformat": 4,
 "nbformat_minor": 5
}
